{
 "cells": [
  {
   "cell_type": "markdown",
   "id": "48398f01-7b45-4467-8a47-a101d9b414e6",
   "metadata": {},
   "source": [
    "# Python Lists"
   ]
  },
  {
   "cell_type": "markdown",
   "id": "e0d608ad-d37f-4f24-aa25-47aa1b9343a2",
   "metadata": {
    "tags": []
   },
   "source": [
    "## References: \n",
    "\n",
    "- [Datacamp - Python Lists](https://campus.datacamp.com/courses/intro-to-python-for-data-science/chapter-2-python-lists?ex=1)"
   ]
  },
  {
   "cell_type": "markdown",
   "id": "a9905c59-8956-45dd-abbc-7f0a59270dcf",
   "metadata": {},
   "source": [
    "## Python Lists \n",
    "\n",
    "A list is a collection of values in Python. It is a built-in data type that is commonly used to store a sequence of values of any type. `Lists are mutable`, `which means you can change their content after creation`. Here's how to create a list in Python:"
   ]
  },
  {
   "cell_type": "code",
   "execution_count": 19,
   "id": "4671e277-0858-4c0d-8b8a-b754814f3816",
   "metadata": {},
   "outputs": [],
   "source": [
    "my_list = [1, 2, 3, 4, 5]"
   ]
  },
  {
   "cell_type": "code",
   "execution_count": null,
   "id": "234d10fa-7cee-4418-800d-b66ba573d63c",
   "metadata": {},
   "outputs": [],
   "source": []
  }
 ],
 "metadata": {
  "kernelspec": {
   "display_name": "Python 3 (ipykernel)",
   "language": "python",
   "name": "python3"
  },
  "language_info": {
   "codemirror_mode": {
    "name": "ipython",
    "version": 3
   },
   "file_extension": ".py",
   "mimetype": "text/x-python",
   "name": "python",
   "nbconvert_exporter": "python",
   "pygments_lexer": "ipython3",
   "version": "3.11.3"
  }
 },
 "nbformat": 4,
 "nbformat_minor": 5
}
