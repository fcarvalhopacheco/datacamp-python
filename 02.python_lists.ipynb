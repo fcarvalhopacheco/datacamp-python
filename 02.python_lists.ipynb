{
 "cells": [
  {
   "cell_type": "markdown",
   "id": "48398f01-7b45-4467-8a47-a101d9b414e6",
   "metadata": {},
   "source": [
    "# Python Lists"
   ]
  },
  {
   "cell_type": "markdown",
   "id": "e0d608ad-d37f-4f24-aa25-47aa1b9343a2",
   "metadata": {
    "tags": []
   },
   "source": [
    "## References: \n",
    "\n",
    "- [Datacamp - Python Lists](https://campus.datacamp.com/courses/intro-to-python-for-data-science/chapter-2-python-lists?ex=1)"
   ]
  },
  {
   "cell_type": "markdown",
   "id": "a9905c59-8956-45dd-abbc-7f0a59270dcf",
   "metadata": {},
   "source": [
    "## Python Lists \n",
    "\n",
    "### Creating a List\n",
    "A list is a collection of values in Python. It is a built-in data type that is commonly used to store a sequence of values of any type. `Lists are mutable`, `which means you can change their content after creation`. Here's how to create a list in Python:"
   ]
  },
  {
   "cell_type": "code",
   "execution_count": 19,
   "id": "4671e277-0858-4c0d-8b8a-b754814f3816",
   "metadata": {},
   "outputs": [],
   "source": [
    "my_list = [1, 2, 3, 4, 5]"
   ]
  },
  {
   "cell_type": "markdown",
   "id": "6d580d7c-60c3-4490-8c62-daaf7e4b919b",
   "metadata": {},
   "source": [
    "### Accessing Elements in a List\n",
    "\n",
    "You can access individual elements in a list by using their index, which starts at 0 for the first element:"
   ]
  },
  {
   "cell_type": "code",
   "execution_count": 21,
   "id": "df347b27-e047-4155-919b-eafd76c02969",
   "metadata": {},
   "outputs": [
    {
     "name": "stdout",
     "output_type": "stream",
     "text": [
      "1\n",
      "4\n"
     ]
    }
   ],
   "source": [
    "my_list = [1, 2, 3, 4, 5]\n",
    "\n",
    "print(my_list[0])  # Output: 1\n",
    "print(my_list[3])  # Output: 4"
   ]
  },
  {
   "cell_type": "markdown",
   "id": "9d9ccc50-0d66-4e18-8248-6458cb31980c",
   "metadata": {},
   "source": [
    "You can also use negative indexing to access elements from the end of the list:\n",
    "\n"
   ]
  },
  {
   "cell_type": "code",
   "execution_count": 22,
   "id": "5db43f33-e513-4ee0-af19-30bca5d26be6",
   "metadata": {},
   "outputs": [
    {
     "name": "stdout",
     "output_type": "stream",
     "text": [
      "5\n",
      "3\n"
     ]
    }
   ],
   "source": [
    "my_list = [1, 2, 3, 4, 5]\n",
    "\n",
    "print(my_list[-1])  # Output: 5\n",
    "print(my_list[-3])  # Output: 3"
   ]
  },
  {
   "cell_type": "markdown",
   "id": "3b030e56-e902-4ab0-be63-29caa48db0fa",
   "metadata": {},
   "source": [
    "### Modifying Elements in a List\n",
    "\n",
    "You can modify individual elements in a list by assigning a new value to their index:"
   ]
  },
  {
   "cell_type": "code",
   "execution_count": 24,
   "id": "1f7ee303-8384-44de-9a8f-9ff9c2197393",
   "metadata": {},
   "outputs": [
    {
     "name": "stdout",
     "output_type": "stream",
     "text": [
      "[1, 2, 10, 4, 5]\n"
     ]
    }
   ],
   "source": [
    "my_list = [1, 2, 3, 4, 5]\n",
    "\n",
    "my_list[2] = 10\n",
    "\n",
    "print(my_list)  # Output: [1, 2, 10, 4, 5]"
   ]
  },
  {
   "cell_type": "markdown",
   "id": "da3b0db8-1224-477d-88ab-74557a04b493",
   "metadata": {},
   "source": [
    "You can also modify a range of elements in a list by using slicing:\n",
    "\n"
   ]
  },
  {
   "cell_type": "code",
   "execution_count": 25,
   "id": "b5d85578-0276-42e2-9a4e-8dc7e12e89ed",
   "metadata": {},
   "outputs": [
    {
     "name": "stdout",
     "output_type": "stream",
     "text": [
      "[1, 10, 20, 4, 5]\n"
     ]
    }
   ],
   "source": [
    "my_list = [1, 2, 3, 4, 5]\n",
    "\n",
    "my_list[1:3] = [10, 20]\n",
    "\n",
    "print(my_list)  # Output: [1, 10, 20, 4, 5]"
   ]
  },
  {
   "cell_type": "markdown",
   "id": "07a2b241-bad9-4a80-b8a9-208e1bbb8d4a",
   "metadata": {},
   "source": [
    "### Adding Elements to a List\n",
    "\n",
    "You can add elements to the end of a list using the `append()` method:\n",
    "\n",
    "\n"
   ]
  },
  {
   "cell_type": "code",
   "execution_count": 28,
   "id": "34dcfbb6-2c08-4529-bf62-7b08290eea94",
   "metadata": {},
   "outputs": [
    {
     "name": "stdout",
     "output_type": "stream",
     "text": [
      "[1, 2, 3, 4, 5, 6]\n"
     ]
    }
   ],
   "source": [
    "\n",
    "my_list = [1, 2, 3, 4, 5]\n",
    "\n",
    "my_list.append(6)\n",
    "\n",
    "print(my_list)  # Output: [1, 2, 3, 4, 5, 6]"
   ]
  },
  {
   "cell_type": "markdown",
   "id": "ca6f9bcd-0b95-403f-865c-82a538e6e888",
   "metadata": {},
   "source": [
    "You can also insert elements at a specific position using the `insert()` method:"
   ]
  },
  {
   "cell_type": "code",
   "execution_count": 29,
   "id": "1bdadd2a-7f88-4e52-be9a-50923e778382",
   "metadata": {},
   "outputs": [
    {
     "name": "stdout",
     "output_type": "stream",
     "text": [
      "[1, 2, 10, 3, 4, 5]\n"
     ]
    }
   ],
   "source": [
    "my_list = [1, 2, 3, 4, 5]\n",
    "\n",
    "my_list.insert(2, 10)\n",
    "\n",
    "print(my_list)  # Output: [1, 2, 10, 3, 4, 5]"
   ]
  },
  {
   "cell_type": "markdown",
   "id": "5db2358e-fd35-46f6-833d-cfada9630738",
   "metadata": {},
   "source": [
    "### Removing Elements from a List\n",
    "\n",
    "You can remove elements from a list using the `remove()` method:\n"
   ]
  },
  {
   "cell_type": "code",
   "execution_count": 31,
   "id": "084767f8-9085-4724-88d3-8b9203834748",
   "metadata": {},
   "outputs": [
    {
     "name": "stdout",
     "output_type": "stream",
     "text": [
      "[1, 2, 4, 5]\n"
     ]
    }
   ],
   "source": [
    "my_list = [1, 2, 3, 4, 5]\n",
    "\n",
    "my_list.remove(3)\n",
    "\n",
    "print(my_list)  # Output: [1, 2, 4, 5]"
   ]
  },
  {
   "cell_type": "markdown",
   "id": "e9109a6e-63fc-4e49-af00-2d727ffb3a02",
   "metadata": {},
   "source": [
    "You can also remove the last element from a list using the `pop()` method:"
   ]
  },
  {
   "cell_type": "code",
   "execution_count": 33,
   "id": "c7e125a7-76ac-4c07-917f-46e33700a9d1",
   "metadata": {},
   "outputs": [
    {
     "name": "stdout",
     "output_type": "stream",
     "text": [
      "[1, 2, 3, 4]\n"
     ]
    }
   ],
   "source": [
    "my_list = [1, 2, 3, 4, 5]\n",
    "\n",
    "my_list.pop()\n",
    "\n",
    "print(my_list)  # Output: [1, 2, 3, 4]"
   ]
  },
  {
   "cell_type": "markdown",
   "id": "be754426-c808-48b5-864b-f4cce09b65fd",
   "metadata": {},
   "source": [
    "### List Comprehensions\n",
    "\n",
    "List comprehensions are a concise way to create lists based on existing lists. They consist of an expression followed by a for clause and zero or more if clauses:"
   ]
  },
  {
   "cell_type": "code",
   "execution_count": 35,
   "id": "29608fdd-66e9-4530-b585-2f368ae61f3d",
   "metadata": {},
   "outputs": [
    {
     "name": "stdout",
     "output_type": "stream",
     "text": [
      "[4, 16]\n"
     ]
    }
   ],
   "source": [
    "my_list = [1, 2, 3, 4, 5]\n",
    "\n",
    "new_list = [x**2 for x in my_list if x % 2 == 0]\n",
    "\n",
    "print(new_list)  # Output: [4, 16"
   ]
  },
  {
   "cell_type": "code",
   "execution_count": null,
   "id": "9bf3a763-1cf5-4cd3-a14e-82945c70160f",
   "metadata": {},
   "outputs": [],
   "source": []
  }
 ],
 "metadata": {
  "kernelspec": {
   "display_name": "Python 3 (ipykernel)",
   "language": "python",
   "name": "python3"
  },
  "language_info": {
   "codemirror_mode": {
    "name": "ipython",
    "version": 3
   },
   "file_extension": ".py",
   "mimetype": "text/x-python",
   "name": "python",
   "nbconvert_exporter": "python",
   "pygments_lexer": "ipython3",
   "version": "3.11.3"
  }
 },
 "nbformat": 4,
 "nbformat_minor": 5
}
