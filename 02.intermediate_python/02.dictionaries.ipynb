{
 "cells": [
  {
   "cell_type": "markdown",
   "id": "da721221-a4ce-4347-8b08-6bee72edeac9",
   "metadata": {},
   "source": [
    "# Dictionaries"
   ]
  },
  {
   "cell_type": "markdown",
   "id": "2353f5d8-6233-4fec-ac90-2728592efc93",
   "metadata": {},
   "source": [
    "## References: \n",
    "\n",
    "- [Datacamp - Matplotlib](https://campus.datacamp.com/courses/intermediate-python/dictionaries-pandas?ex=1)\n"
   ]
  },
  {
   "cell_type": "markdown",
   "id": "7086022f-bb23-430c-a88e-1e75a9284f70",
   "metadata": {},
   "source": [
    "## Overview\n",
    "\n",
    "Dictionary is an unordered collection of key-value pairs, where each key is unique. It is denoted by curly braces `{}` and the key-value pairs are separated by a `:` colon. Dictionaries are extremely useful when we need to store and retrieve data in a way that is fast and efficient.\n"
   ]
  },
  {
   "cell_type": "markdown",
   "id": "00d34d79-c858-4051-a689-bc454006ce21",
   "metadata": {},
   "source": [
    "## Creating a Dictionary\n",
    "\n",
    "To create a dictionary in Python, we use the curly braces {} and separate the key-value pairs with a colon. Here's an example:"
   ]
  },
  {
   "cell_type": "code",
   "execution_count": 23,
   "id": "1a07b121-8992-4f52-900f-77a3fe6b3278",
   "metadata": {},
   "outputs": [],
   "source": [
    "hot_data = {\n",
    "    # keys        :   values \n",
    "    'dataset_name': 'Hawaii Ocean Time-series data',\n",
    "    'dataset_description': 'HOT dataset',\n",
    "    'dataset_source': 'BCO-DMO',\n",
    "    'dataset_variables': ['temperature', 'salinity', 'pressure'], # not including everything\n",
    "    'dataset_years': (1988, 2019),\n",
    "    'dataset_ctd':'http://optserv1.whoi.edu/jg/listfnzm//dmoserv3.bco-dmo.org:80/BCO-DMO/HOT/ctd',\n",
    "    'dataset_bottle':'http://optserv1.whoi.edu/jg/listfnzm//dmoserv3.bco-dmo.org:80/BCO-DMO/HOT/niskin_v2'\n",
    "}"
   ]
  },
  {
   "cell_type": "markdown",
   "id": "e74ab32f-bf31-493c-8372-42c629eb8f84",
   "metadata": {},
   "source": [
    "In this example, we have created a dictionary called `hot_data` with several key-value pairs. The keys are strings (e.g. 'dataset_name') and the values can be of any data type (e.g. strings, lists, tuples, integers)."
   ]
  },
  {
   "cell_type": "markdown",
   "id": "ea37e687-65da-4ef9-a0aa-e85e73d43eaa",
   "metadata": {},
   "source": [
    "## Accessing Dictionary Values\n",
    "\n",
    "You can access the value of a specific key in a dictionary by using the key inside square brackets `[]`. For example, to access the value for 'dataset_name' in `hot_data`, we would do the following:"
   ]
  },
  {
   "cell_type": "code",
   "execution_count": 13,
   "id": "8921da77-fcbe-46ed-b69e-1de112df3b43",
   "metadata": {},
   "outputs": [
    {
     "name": "stdout",
     "output_type": "stream",
     "text": [
      "Hawaii Ocean Time-series data\n"
     ]
    }
   ],
   "source": [
    "print(hot_data['dataset_name'])"
   ]
  },
  {
   "cell_type": "markdown",
   "id": "0699c7e5-1056-4188-af80-1da15b5e02c8",
   "metadata": {},
   "source": [
    "## Updating a Dictionary\n",
    "\n",
    "You can add new key-value pairs to a dictionary or update existing ones by assigning a value to a specific key. Here's an example of adding a new key-value pair to hot_data:"
   ]
  },
  {
   "cell_type": "code",
   "execution_count": 24,
   "id": "a3b4a8fc-eaae-43e9-8357-8064877203c8",
   "metadata": {},
   "outputs": [],
   "source": [
    "hot_data['dataset_processor'] = 'Fernando C. Pacheco'"
   ]
  },
  {
   "cell_type": "code",
   "execution_count": 25,
   "id": "8f317d16-4e5a-4702-b530-e65a9888a918",
   "metadata": {},
   "outputs": [
    {
     "name": "stdout",
     "output_type": "stream",
     "text": [
      "{'dataset_name': 'Hawaii Ocean Time-series data', 'dataset_description': 'HOT dataset', 'dataset_source': 'BCO-DMO', 'dataset_variables': ['temperature', 'salinity', 'pressure'], 'dataset_years': (1988, 2019), 'dataset_ctd': 'http://optserv1.whoi.edu/jg/listfnzm//dmoserv3.bco-dmo.org:80/BCO-DMO/HOT/ctd', 'dataset_bottle': 'http://optserv1.whoi.edu/jg/listfnzm//dmoserv3.bco-dmo.org:80/BCO-DMO/HOT/niskin_v2', 'dataset_processor': 'Fernando C. Pacheco'}\n"
     ]
    }
   ],
   "source": [
    "print(hot_data)"
   ]
  },
  {
   "cell_type": "markdown",
   "id": "94196776-647f-4e5c-8eda-9f59a712cf46",
   "metadata": {},
   "source": [
    "## Iterating over a Dictionary\n",
    "\n",
    "You can iterate over a dictionary using a for loop. Here's an example of iterating over the `hot_data` dictionary we created earlier:\n",
    "\n"
   ]
  },
  {
   "cell_type": "code",
   "execution_count": 26,
   "id": "08c07735-6ede-44d7-960c-1cc18b0427ee",
   "metadata": {},
   "outputs": [
    {
     "name": "stdout",
     "output_type": "stream",
     "text": [
      "dataset_name : Hawaii Ocean Time-series data\n",
      "dataset_description : HOT dataset\n",
      "dataset_source : BCO-DMO\n",
      "dataset_variables : ['temperature', 'salinity', 'pressure']\n",
      "dataset_years : (1988, 2019)\n",
      "dataset_ctd : http://optserv1.whoi.edu/jg/listfnzm//dmoserv3.bco-dmo.org:80/BCO-DMO/HOT/ctd\n",
      "dataset_bottle : http://optserv1.whoi.edu/jg/listfnzm//dmoserv3.bco-dmo.org:80/BCO-DMO/HOT/niskin_v2\n",
      "dataset_processor : Fernando C. Pacheco\n"
     ]
    }
   ],
   "source": [
    "for key, value in hot_data.items():\n",
    "    print(key, ':', value)"
   ]
  },
  {
   "cell_type": "code",
   "execution_count": null,
   "id": "11bdad46-e549-4265-a6a0-59c73808d272",
   "metadata": {},
   "outputs": [],
   "source": []
  }
 ],
 "metadata": {
  "kernelspec": {
   "display_name": "Python 3 (ipykernel)",
   "language": "python",
   "name": "python3"
  },
  "language_info": {
   "codemirror_mode": {
    "name": "ipython",
    "version": 3
   },
   "file_extension": ".py",
   "mimetype": "text/x-python",
   "name": "python",
   "nbconvert_exporter": "python",
   "pygments_lexer": "ipython3",
   "version": "3.11.3"
  }
 },
 "nbformat": 4,
 "nbformat_minor": 5
}
