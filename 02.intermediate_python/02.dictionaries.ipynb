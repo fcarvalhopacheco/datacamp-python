{
 "cells": [
  {
   "cell_type": "markdown",
   "id": "bc31df26-269a-4373-9fa1-7f2881365926",
   "metadata": {},
   "source": [
    "# Dictionaries and Pandas\n",
    "\n",
    "## References: \n",
    "\n",
    "- [Datacamp - Matplotlib](https://campus.datacamp.com/courses/intermediate-python/dictionaries-pandas?ex=1)\n",
    "\n",
    "\n",
    "## Overview\n",
    "\n",
    "Dictionary is an unordered collection of key-value pairs, where each key is unique. It is denoted by curly braces `{}` and the key-value pairs are separated by a `:` colon. Dictionaries are extremely useful when we need to store and retrieve data in a way that is fast and efficient.\n",
    "\n",
    "\n",
    "## Creating a Dictionary\n",
    "\n",
    "To create a dictionary in Python, we use the curly braces {} and separate the key-value pairs with a colon. Here's an example:\n"
   ]
  },
  {
   "cell_type": "code",
   "execution_count": null,
   "id": "4bcea337-e836-467c-bacc-e667b3bc8cab",
   "metadata": {},
   "outputs": [],
   "source": [
    "hot_data = {\n",
    "    # keys        :   values \n",
    "    'dataset_name': 'Hawaii Ocean Time-series data',\n",
    "    'dataset_description': 'HOT dataset',\n",
    "    'dataset_source': 'BCO-DMO',\n",
    "    'dataset_variables': ['temperature', 'salinity', 'pressure'], # not including everything\n",
    "    'dataset_years': (1988, 2019),\n",
    "    'dataset_ctd':'https://erddap.bco-dmo.org/erddap/tabledap/bcodmo_dataset_3937.csv',\n",
    "    'dataset_bottle':'https://erddap.bco-dmo.org/erddap/tabledap/bcodmo_dataset_3773.csv'\n",
    "}"
   ]
  },
  {
   "cell_type": "markdown",
   "id": "964103f7-be2d-4b9d-a4b8-edc1c6d6113d",
   "metadata": {},
   "source": [
    "In this example, we have created a dictionary called `hot_data` with several key-value pairs. The keys are strings (e.g. 'dataset_name') and the values can be of any data type (e.g. strings, lists, tuples, integers)."
   ]
  },
  {
   "cell_type": "markdown",
   "id": "e63023ce-31cf-4d43-a6fc-1f360d594245",
   "metadata": {},
   "source": [
    "\n",
    "## Accessing Dictionary Values\n",
    "\n",
    "You can access the value of a specific key in a dictionary by using the key inside square brackets `[]`. For example, to access the value for 'dataset_name' in `hot_data`, we would do the following:"
   ]
  },
  {
   "cell_type": "code",
   "execution_count": null,
   "id": "d8cf406b-5b88-42a4-a6a7-59cca5750660",
   "metadata": {},
   "outputs": [],
   "source": [
    "print(hot_data['dataset_name'])"
   ]
  },
  {
   "cell_type": "markdown",
   "id": "0699c7e5-1056-4188-af80-1da15b5e02c8",
   "metadata": {},
   "source": [
    "## Updating a Dictionary\n",
    "\n",
    "You can add new key-value pairs to a dictionary or update existing ones by assigning a value to a specific key. Here's an example of adding a new key-value pair to hot_data:"
   ]
  },
  {
   "cell_type": "code",
   "execution_count": null,
   "id": "a3b4a8fc-eaae-43e9-8357-8064877203c8",
   "metadata": {},
   "outputs": [],
   "source": [
    "hot_data['dataset_processor'] = 'Fernando C. Pacheco'"
   ]
  },
  {
   "cell_type": "code",
   "execution_count": null,
   "id": "8f317d16-4e5a-4702-b530-e65a9888a918",
   "metadata": {},
   "outputs": [],
   "source": [
    "print(hot_data)"
   ]
  },
  {
   "cell_type": "markdown",
   "id": "94196776-647f-4e5c-8eda-9f59a712cf46",
   "metadata": {},
   "source": [
    "## Iterating over a Dictionary\n",
    "\n",
    "You can iterate over a dictionary using a for loop. Here's an example of iterating over the `hot_data` dictionary we created earlier:\n",
    "\n"
   ]
  },
  {
   "cell_type": "code",
   "execution_count": null,
   "id": "08c07735-6ede-44d7-960c-1cc18b0427ee",
   "metadata": {},
   "outputs": [],
   "source": [
    "for key, value in hot_data.items():\n",
    "    print(key, ':', value)"
   ]
  },
  {
   "cell_type": "markdown",
   "id": "1b38963b-6126-4d88-a56c-cbc7d21b9211",
   "metadata": {},
   "source": [
    "# Pandas"
   ]
  },
  {
   "cell_type": "markdown",
   "id": "0c91a68f-1a26-4fe5-93be-fa5dce7a4136",
   "metadata": {},
   "source": [
    "Pandas is a powerful Python library used for data manipulation and analysis. It provides a data structure called DataFrame, which allows you to organize and manipulate data in a tabular form."
   ]
  },
  {
   "cell_type": "markdown",
   "id": "1c056b77-2015-4314-b522-dae8b01e6c8a",
   "metadata": {},
   "source": [
    "## Importing Pandas and Loading Data\n",
    "\n",
    "Before we start using Pandas, we need to install it and import it into our Python environment."
   ]
  },
  {
   "cell_type": "markdown",
   "id": "d50cbb07-5901-4806-84c8-a0a60ece7157",
   "metadata": {},
   "source": [
    "`conda install pandas`\n",
    "     \n",
    "    or \n",
    "\n",
    "`pip install pandas`"
   ]
  },
  {
   "cell_type": "markdown",
   "id": "063c8296-9000-40b7-b63d-b3b709886dac",
   "metadata": {},
   "source": [
    "Next, we will load our data into a Pandas DataFrame. We will use the CTD (conductivity, temperature, depth) dataset from HOT. This dataset contains measurements of water temperature, salinity, and pressure at various depths in the ocean."
   ]
  },
  {
   "cell_type": "code",
   "execution_count": null,
   "id": "dba9ccf2-4b50-4440-baa8-283a0263766a",
   "metadata": {},
   "outputs": [],
   "source": [
    "import pandas as pd\n",
    "\n",
    "#url = hot_data['dataset_ctd']\n",
    "url= \"dataset_ctd.csv\""
   ]
  },
  {
   "cell_type": "code",
   "execution_count": null,
   "id": "7664e2e5-8313-4d9d-8e35-b1a5dd7f4a17",
   "metadata": {},
   "outputs": [],
   "source": [
    "df = pd.read_csv(url , \n",
    "                 skiprows=[1],          # Remove the units header...\n",
    "                 dtype=None,\n",
    "                 parse_dates=['time']   # Change object type to datetime\n",
    "                )"
   ]
  },
  {
   "cell_type": "code",
   "execution_count": null,
   "id": "e747ddaf-5d40-4aa8-bc9c-dfc47556d14e",
   "metadata": {},
   "outputs": [],
   "source": [
    "df"
   ]
  },
  {
   "cell_type": "code",
   "execution_count": null,
   "id": "9b4853bc-6a39-4c23-8e74-75c8f1c85a19",
   "metadata": {},
   "outputs": [],
   "source": [
    "df.dtypes"
   ]
  },
  {
   "cell_type": "code",
   "execution_count": null,
   "id": "d3af315a-2890-4f12-973e-29d92038a198",
   "metadata": {},
   "outputs": [],
   "source": [
    "df = df.set_index('time')"
   ]
  },
  {
   "cell_type": "code",
   "execution_count": null,
   "id": "846d5ced-871d-4df2-82b8-f5873c5d17cb",
   "metadata": {},
   "outputs": [],
   "source": [
    "df"
   ]
  },
  {
   "cell_type": "code",
   "execution_count": null,
   "id": "d3110030-2451-47ea-b9cf-058fd455c885",
   "metadata": {},
   "outputs": [],
   "source": [
    "# Print out cruise_names column as Pandas Series\n",
    "print(df['cruise_name'])"
   ]
  },
  {
   "cell_type": "code",
   "execution_count": null,
   "id": "639f3f74-1e63-4c19-9e54-0c83620ac0b3",
   "metadata": {},
   "outputs": [],
   "source": [
    "# Print out cruise_names column as Pandas DataFrame\n",
    "print(df[['cruise_name']])"
   ]
  },
  {
   "cell_type": "code",
   "execution_count": null,
   "id": "a9d016e0-57c4-4816-9a44-506283420bbe",
   "metadata": {},
   "outputs": [],
   "source": [
    "# Print out DataFrame with pressure and temperature  columns\n",
    "print(df[['CTDPRS','CTDTMP']])"
   ]
  },
  {
   "cell_type": "markdown",
   "id": "94f97890-2f68-4a82-a2e0-160d5c0e0ad6",
   "metadata": {},
   "source": [
    "## LOC and ILOC"
   ]
  },
  {
   "cell_type": "markdown",
   "id": "6b37194e-926d-4a3b-a80c-3eaecedf02ac",
   "metadata": {},
   "source": [
    "In Python's pandas library, `loc` and `iloc` are important functions for data indexing and selection. They allow you to access and manipulate specific rows and columns in a DataFrame or Series. Here's an explanation of both functions and some examples:\n"
   ]
  },
  {
   "cell_type": "markdown",
   "id": "bde284dc-6f9e-42cc-9bea-272cbf9668b2",
   "metadata": {},
   "source": [
    "###  loc \n",
    "- loc is used to access rows and columns by label.\n",
    "- The syntax is `df.loc[row_indexer, column_indexer]`, where row_indexer and column_indexer can be a single label, a list of labels, or a slice.\n",
    "- The labels can be either row labels or column labels.\n",
    "- It returns a new DataFrame or Series containing the selected rows and columns."
   ]
  },
  {
   "cell_type": "code",
   "execution_count": null,
   "id": "d80e7596-c02d-4e05-a0b7-8a04a0064762",
   "metadata": {},
   "outputs": [],
   "source": [
    "print(df.loc[:,'CTDPRS'])"
   ]
  },
  {
   "cell_type": "markdown",
   "id": "08201916-b51c-4664-af08-a726abee9e1c",
   "metadata": {},
   "source": [
    "### iloc\n",
    "\n",
    "- iloc is used to access rows and columns by integer-based position.\n",
    "- The syntax is df.iloc[row_indexer, column_indexer], where row_indexer and column_indexer can be a single - integer, a list of integers, or a slice.\n",
    "- The integers represent the positional index of the rows or columns.\n",
    "- It returns a new DataFrame or Series containing the selected rows and columns."
   ]
  },
  {
   "cell_type": "code",
   "execution_count": null,
   "id": "7719f533-cc18-494e-9ed5-a753988645af",
   "metadata": {},
   "outputs": [],
   "source": [
    "print(df.iloc[:,23])"
   ]
  },
  {
   "cell_type": "code",
   "execution_count": null,
   "id": "762cb963-ba75-4958-8ec7-7bfaf3dd893e",
   "metadata": {},
   "outputs": [],
   "source": [
    "df['CTDPRS'] = -df['CTDPRS']     # convert pressure to negative "
   ]
  },
  {
   "cell_type": "code",
   "execution_count": null,
   "id": "7f1e7cef-627e-46ac-a12d-d65f7499145a",
   "metadata": {},
   "outputs": [],
   "source": []
  },
  {
   "cell_type": "code",
   "execution_count": null,
   "id": "6b8ba561-920a-4c6e-ad1d-e5b31598de7e",
   "metadata": {},
   "outputs": [],
   "source": []
  }
 ],
 "metadata": {
  "kernelspec": {
   "display_name": "Python 3 (ipykernel)",
   "language": "python",
   "name": "python3"
  },
  "language_info": {
   "codemirror_mode": {
    "name": "ipython",
    "version": 3
   },
   "file_extension": ".py",
   "mimetype": "text/x-python",
   "name": "python",
   "nbconvert_exporter": "python",
   "pygments_lexer": "ipython3",
   "version": "3.11.3"
  }
 },
 "nbformat": 4,
 "nbformat_minor": 5
}
