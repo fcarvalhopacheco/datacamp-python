{
 "cells": [
  {
   "cell_type": "markdown",
   "id": "49b59d8f-1a62-43f3-bf77-5b57be524002",
   "metadata": {},
   "source": [
    "# Introduction to Git\n",
    "\n",
    "## References:\n",
    "- [Datacamp: Introduction to Git ](https://campus.datacamp.com/courses/introduction-to-git/introduction-to-git?ex=1)\n"
   ]
  },
  {
   "cell_type": "markdown",
   "id": "55203a45-ef9f-43d2-8b70-a511e039c8ff",
   "metadata": {},
   "source": [
    "## Version Control\n",
    "\n",
    "Version control is a system that tracks and manages changes to files or a collection of files over time. It allows you to keep a record of modifications made to your files, including who made the changes, when they were made, and what specific changes were implemented. This provides several benefits, such as:\n",
    "\n",
    "- **History Tracking**: Version control systems maintain a complete history of changes, allowing you to easily revert back to a previous state or examine the evolution of a file.\n",
    "- **Collaboration**: Multiple people can work on the same set of files simultaneously without conflicts. Version control systems enable merging changes made by different individuals, ensuring that everyone's work is properly integrated.\n",
    "- **Error Recovery**: If mistakes occur or files get corrupted, version control allows you to roll back to a known working state.\n",
    "- **Branching and Parallel Development**: Version control systems enable branching, which allows you to create separate lines of development. This is useful for experimenting with new features or working on different versions of a project.\n",
    "- **Traceability and Accountability**: Version control provides detailed information about who made changes and when, making it easy to identify the contributors responsible for specific modifications.\n"
   ]
  },
  {
   "cell_type": "markdown",
   "id": "6998ac7d-563c-4932-be07-8a3e366d53be",
   "metadata": {},
   "source": [
    "### Examples of Version Control Systems\n",
    "\n",
    "1. **Git**: Git is the most popular distributed version control system. It is widely used for its speed, flexibility, and robustness. Git is particularly favored by developers and is known for its powerful branching and merging capabilities.\n",
    "2. **Subversion (SVN)**: Subversion is a centralized version control system that stores files and their history on a central server. It offers similar features to Git but follows a different model of operation.\n",
    "3. **Mercurial**: Mercurial is a distributed version control system similar to Git. It focuses on simplicity and ease of use, making it a good choice for beginners.\n"
   ]
  },
  {
   "cell_type": "markdown",
   "id": "f6b630ed-9be0-411b-97d0-5c87fd7d6e49",
   "metadata": {},
   "source": [
    "## Git Basics\n",
    "\n",
    "1. Initializing a Repository\n",
    "\n",
    "To start using Git in a project, you need to initialize a repository. Open your command line or terminal and navigate to the desired project directory. Then, use the following command:\n",
    "\n",
    "```sh\n",
    "git init\n",
    "```"
   ]
  },
  {
   "cell_type": "markdown",
   "id": "0207d913-97bb-49b6-9ad8-a5333ead4870",
   "metadata": {},
   "source": [
    "2. Adding and Committing Files\n",
    "\n",
    "To add files to the repository, use the following command:\n",
    "\n",
    "```sh\n",
    "git add <filename>\n",
    "```"
   ]
  },
  {
   "cell_type": "markdown",
   "id": "ea2b1c5a-28b1-4190-8251-9c3ece42b37d",
   "metadata": {},
   "source": [
    "You can also use `git add .` to add all files in the current directory.\n",
    "\n",
    "After adding files, commit them with a descriptive message using:\n",
    "\n",
    "```sh\n",
    "git commit -m \"Your commit message\"\n",
    "```\n"
   ]
  },
  {
   "cell_type": "markdown",
   "id": "d50edbf5-5365-4d8b-a987-a66977c0f448",
   "metadata": {},
   "source": [
    "3. Checking the Status\n",
    "   \n",
    "To see the status of your repository and any modifications made, use:\n",
    "\n",
    "```sh\n",
    "git status\n",
    "```"
   ]
  },
  {
   "cell_type": "markdown",
   "id": "3cb95084-e795-4ed3-9e9e-b6a1ee9b5f39",
   "metadata": {},
   "source": [
    "4. Viewing Commit History\n",
    "\n",
    "To view the commit history and the changes made, you can run:\n",
    "\n",
    "```sh\n",
    "git log\n",
    "```"
   ]
  },
  {
   "cell_type": "markdown",
   "id": "25a0b34b-683d-49c2-883f-3a33cc006f13",
   "metadata": {},
   "source": [
    "5. Branching and Merging\n",
    "   \n",
    "To create a new branch, use:\n",
    "\n",
    "```sh\n",
    "git branch <branch_name>\n",
    "```\n",
    "\n",
    "To switch to a different branch, use:\n",
    "\n",
    "```sh\n",
    "git checkout <branch_name>\n",
    "```\n",
    "\n",
    "To merge changes from one branch into another, switch to the target branch and run:\n",
    "\n",
    "```sh\n",
    "git merge <source_branch>\n",
    "```"
   ]
  },
  {
   "cell_type": "markdown",
   "id": "80c947ba-4fb1-4c15-9142-2d19633f5a25",
   "metadata": {},
   "source": [
    "6. Remote Repositories\n",
    "\n",
    "To work with remote repositories, you can add a remote URL with:\n",
    "\n",
    "```sh\n",
    "git remote add origin <remote_url>\n",
    "```\n"
   ]
  },
  {
   "cell_type": "markdown",
   "id": "12784125-3cc8-4f29-b163-6f8a7bf86442",
   "metadata": {},
   "source": [
    "To push your changes to a remote repository, use:\n",
    "\n",
    "```sh\n",
    "git push origin <branch_name>\n",
    "\n",
    "```"
   ]
  },
  {
   "cell_type": "markdown",
   "id": "54e64941-c19b-4479-ab8f-5a316ac504b5",
   "metadata": {},
   "source": [
    "To clone an existing repository, run:\n",
    "\n",
    "```sh\n",
    "git clone <remote_url>\n",
    "```"
   ]
  },
  {
   "cell_type": "markdown",
   "id": "6ac082dd-21db-43d6-afe1-5f8ad1eedc1d",
   "metadata": {},
   "source": [
    "7. Additional Commands\n",
    "\n",
    "Shows the differences between the current state and the previous commit.\n",
    "```sh \n",
    "git diff \n",
    "```\n",
    "\n",
    "Fetches changes from\n",
    "```sh\n",
    "git pull\n",
    "```"
   ]
  },
  {
   "cell_type": "code",
   "execution_count": null,
   "id": "d41e1e3f-24fe-45d9-a2b2-526fd2bad0a2",
   "metadata": {},
   "outputs": [],
   "source": []
  }
 ],
 "metadata": {
  "kernelspec": {
   "display_name": "Python 3 (ipykernel)",
   "language": "python",
   "name": "python3"
  },
  "language_info": {
   "codemirror_mode": {
    "name": "ipython",
    "version": 3
   },
   "file_extension": ".py",
   "mimetype": "text/x-python",
   "name": "python",
   "nbconvert_exporter": "python",
   "pygments_lexer": "ipython3",
   "version": "3.11.3"
  }
 },
 "nbformat": 4,
 "nbformat_minor": 5
}
