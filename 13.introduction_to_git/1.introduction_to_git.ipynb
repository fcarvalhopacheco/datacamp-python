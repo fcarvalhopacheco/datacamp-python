{
 "cells": [
  {
   "cell_type": "markdown",
   "id": "49b59d8f-1a62-43f3-bf77-5b57be524002",
   "metadata": {},
   "source": [
    "# Introduction to Git\n",
    "\n",
    "## References:\n",
    "- [Datacamp: Introduction to Git ](https://campus.datacamp.com/courses/introduction-to-git/introduction-to-git?ex=1)\n"
   ]
  },
  {
   "cell_type": "code",
   "execution_count": null,
   "id": "51d7f99e-8358-4e1a-9202-a5802ec758f1",
   "metadata": {},
   "outputs": [],
   "source": []
  }
 ],
 "metadata": {
  "kernelspec": {
   "display_name": "Python 3 (ipykernel)",
   "language": "python",
   "name": "python3"
  },
  "language_info": {
   "codemirror_mode": {
    "name": "ipython",
    "version": 3
   },
   "file_extension": ".py",
   "mimetype": "text/x-python",
   "name": "python",
   "nbconvert_exporter": "python",
   "pygments_lexer": "ipython3",
   "version": "3.11.3"
  }
 },
 "nbformat": 4,
 "nbformat_minor": 5
}
