{
 "cells": [
  {
   "cell_type": "markdown",
   "id": "4abc685c-4f20-48b6-8dd1-644a9211e92f",
   "metadata": {},
   "source": [
    "# Numpy"
   ]
  },
  {
   "cell_type": "markdown",
   "id": "3e4c974d-8852-43e0-9f0b-2288abab3f33",
   "metadata": {},
   "source": [
    "## References: \n",
    "\n",
    "- [Datacamp - Numpy](https://campus.datacamp.com/courses/intro-to-python-for-data-science/chapter-4-numpy?ex=1)\n",
    "\n",
    "- [Numpy](https://numpy.org/doc/stable/user/whatisnumpy.html)\n"
   ]
  },
  {
   "cell_type": "markdown",
   "id": "7f7151d8-f6cb-487f-8c10-58ec5838a693",
   "metadata": {},
   "source": [
    "## Overview\n",
    "\n",
    "NumPy is a popular Python library used for numerical computing, which provides efficient data structures for multi-dimensional arrays and matrices, as well as a variety of mathematical functions for performing operations on these arrays."
   ]
  },
  {
   "cell_type": "markdown",
   "id": "c1ef8971-765e-4c39-bfef-69af1b219aeb",
   "metadata": {},
   "source": [
    "## Arrays:\n",
    "\n",
    "The most fundamental data structure in NumPy is the `ndarray`, which is a multi-dimensional array. NumPy arrays are similar to Python lists, but they are more efficient for numerical computations and can have any number of dimensions.\n",
    "\n",
    "Example:\n"
   ]
  },
  {
   "cell_type": "code",
   "execution_count": 3,
   "id": "529311e1-572c-4c3d-8ae2-c45e4e2cb70b",
   "metadata": {},
   "outputs": [],
   "source": [
    "import numpy as np\n",
    "\n",
    "# Create a 1D array\n",
    "a = np.array([1, 2, 3])\n",
    "\n",
    "# Create a 2D array\n",
    "b = np.array([[1, 2], [3, 4], [5, 6]])"
   ]
  },
  {
   "cell_type": "markdown",
   "id": "65d77725-0572-45d3-9c39-9e0caf0b6448",
   "metadata": {},
   "source": [
    "## Indexing and slicing: \n",
    "\n",
    "NumPy arrays can be indexed and sliced in a similar way to Python lists. You can access individual elements or subsets of an array by specifying the indices or slices you want.\n",
    "\n",
    "Example:"
   ]
  },
  {
   "cell_type": "code",
   "execution_count": 4,
   "id": "6f2dd073-146f-4276-bf45-855a0c622703",
   "metadata": {},
   "outputs": [
    {
     "name": "stdout",
     "output_type": "stream",
     "text": [
      "1\n",
      "6\n",
      "[2 5 8]\n",
      "[[4 5]\n",
      " [7 8]]\n"
     ]
    }
   ],
   "source": [
    "import numpy as np\n",
    "\n",
    "# Create a 2D array\n",
    "a = np.array([[1, 2, 3], [4, 5, 6], [7, 8, 9]])\n",
    "\n",
    "# Indexing\n",
    "print(a[0, 0])  # Output: 1\n",
    "print(a[1, 2])  # Output: 6\n",
    "\n",
    "# Slicing\n",
    "print(a[:, 1])  # Output: [2 5 8]\n",
    "print(a[1:, :2])  # Output: [[4 5] [7 8]]\n"
   ]
  },
  {
   "cell_type": "markdown",
   "id": "4f144893-bf0e-486a-bc82-d7fafcd5a877",
   "metadata": {},
   "source": [
    "## Vectorized operations: \n",
    "\n",
    "NumPy provides a variety of mathematical functions that can be applied to entire arrays or subsets of arrays, without the need for loops. This is known as vectorization, and it is a powerful feature of NumPy that makes it much faster and more efficient than traditional Python lists.\n",
    "\n",
    "Example:"
   ]
  },
  {
   "cell_type": "code",
   "execution_count": 5,
   "id": "72c093e9-a335-4d5c-9ed1-c8d9645beaf7",
   "metadata": {},
   "outputs": [
    {
     "name": "stdout",
     "output_type": "stream",
     "text": [
      "[3 4 5]\n",
      "[3 6 9]\n"
     ]
    }
   ],
   "source": [
    "import numpy as np\n",
    "\n",
    "# Create a 1D array\n",
    "a = np.array([1, 2, 3])\n",
    "\n",
    "# Vectorized operations\n",
    "print(a + 2)  # Output: [3 4 5]\n",
    "print(a * 3)  # Output: [3 6 9]\n"
   ]
  },
  {
   "cell_type": "markdown",
   "id": "bee486a2-1c0c-4307-adf8-9daf4306d0e7",
   "metadata": {},
   "source": [
    "## [Broadcasting](https://numpy.org/doc/stable/user/basics.broadcasting.html#):\n",
    "\n",
    "NumPy arrays can be broadcast to perform operations on arrays with different shapes or dimensions. This allows you to perform complex calculations on arrays of different sizes, without the need for complex loops or iteration.\n",
    "\n",
    "Example:"
   ]
  },
  {
   "cell_type": "code",
   "execution_count": 10,
   "id": "e1dcbf1d-645a-4c92-822a-47db40ef9eaa",
   "metadata": {},
   "outputs": [
    {
     "data": {
      "text/plain": [
       "array([2., 4., 6.])"
      ]
     },
     "execution_count": 10,
     "metadata": {},
     "output_type": "execute_result"
    }
   ],
   "source": [
    "import numpy as np\n",
    "\n",
    "a = np.array([1.0, 2.0, 3.0])\n",
    "b = np.array([2.0, 2.0, 2.0])\n",
    "a * b"
   ]
  }
 ],
 "metadata": {
  "kernelspec": {
   "display_name": "Python 3 (ipykernel)",
   "language": "python",
   "name": "python3"
  },
  "language_info": {
   "codemirror_mode": {
    "name": "ipython",
    "version": 3
   },
   "file_extension": ".py",
   "mimetype": "text/x-python",
   "name": "python",
   "nbconvert_exporter": "python",
   "pygments_lexer": "ipython3",
   "version": "3.11.3"
  }
 },
 "nbformat": 4,
 "nbformat_minor": 5
}
