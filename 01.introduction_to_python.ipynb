{
 "cells": [
  {
   "cell_type": "markdown",
   "id": "48398f01-7b45-4467-8a47-a101d9b414e6",
   "metadata": {},
   "source": [
    "# Introduction to Python"
   ]
  },
  {
   "cell_type": "markdown",
   "id": "e0d608ad-d37f-4f24-aa25-47aa1b9343a2",
   "metadata": {
    "tags": []
   },
   "source": [
    "## References: \n",
    "\n",
    "- [Datacamp - Introduction to Python](https://campus.datacamp.com/courses/intro-to-python-for-data-science/chapter-1-python-basics?ex=1)"
   ]
  },
  {
   "cell_type": "markdown",
   "id": "a9905c59-8956-45dd-abbc-7f0a59270dcf",
   "metadata": {},
   "source": [
    "## 1. Python Basics"
   ]
  },
  {
   "cell_type": "code",
   "execution_count": null,
   "id": "acb4964a-e2a6-40e6-a4c3-c3ddf389700b",
   "metadata": {},
   "outputs": [],
   "source": []
  },
  {
   "cell_type": "markdown",
   "id": "ffd94a46-4900-4b35-acd6-d88809362e79",
   "metadata": {},
   "source": [
    "## 2. Python Lists"
   ]
  },
  {
   "cell_type": "markdown",
   "id": "e6d3571c-da78-46a5-92ed-8be3e3340ed4",
   "metadata": {},
   "source": [
    "## 3. Functions and Packages"
   ]
  },
  {
   "cell_type": "markdown",
   "id": "34eae912-3f7f-4daa-85b5-534046036987",
   "metadata": {},
   "source": [
    "## 4. NumPy"
   ]
  },
  {
   "cell_type": "code",
   "execution_count": null,
   "id": "c3d77429-837c-4e83-b518-69fa3472d426",
   "metadata": {},
   "outputs": [],
   "source": []
  }
 ],
 "metadata": {
  "kernelspec": {
   "display_name": "Python 3 (ipykernel)",
   "language": "python",
   "name": "python3"
  },
  "language_info": {
   "codemirror_mode": {
    "name": "ipython",
    "version": 3
   },
   "file_extension": ".py",
   "mimetype": "text/x-python",
   "name": "python",
   "nbconvert_exporter": "python",
   "pygments_lexer": "ipython3",
   "version": "3.11.3"
  }
 },
 "nbformat": 4,
 "nbformat_minor": 5
}
