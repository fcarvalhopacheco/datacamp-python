{
 "cells": [
  {
   "cell_type": "markdown",
   "id": "48398f01-7b45-4467-8a47-a101d9b414e6",
   "metadata": {},
   "source": [
    "# Introduction to Python"
   ]
  },
  {
   "cell_type": "markdown",
   "id": "e0d608ad-d37f-4f24-aa25-47aa1b9343a2",
   "metadata": {
    "tags": []
   },
   "source": [
    "## References: \n",
    "\n",
    "- [Datacamp - Introduction to Python](https://campus.datacamp.com/courses/intro-to-python-for-data-science/chapter-1-python-basics?ex=1)"
   ]
  },
  {
   "cell_type": "markdown",
   "id": "a9905c59-8956-45dd-abbc-7f0a59270dcf",
   "metadata": {},
   "source": [
    "## Python Basics\n",
    "\n",
    "Python is a high-level, interpreted programming language that is used for a wide range of purposes, from web development to scientific computing. Here are some Python basics to get you started."
   ]
  },
  {
   "cell_type": "markdown",
   "id": "e3c3a33f-61be-4c88-9c8e-40d0cd6335b4",
   "metadata": {},
   "source": [
    "### Data Types\n",
    "\n",
    "Python has several built-in data types, including:\n",
    "\n",
    "- **Integers**: Whole numbers like 1, 2, 3, etc.\n",
    "- **Floats**: Decimal numbers like 3.14, 2.7, etc.\n",
    "- **Strings**: Textual data like \"Hello, world!\", \"Python is awesome\", etc.\n",
    "- **Booleans**: True or False values that are used for logical operations.\n"
   ]
  },
  {
   "cell_type": "markdown",
   "id": "ffd94a46-4900-4b35-acd6-d88809362e79",
   "metadata": {},
   "source": [
    "### Variables\n",
    "\n",
    "Variables are used to store data in Python. Here's how to create a variables:"
   ]
  },
  {
   "cell_type": "code",
   "execution_count": 18,
   "id": "fe119ded-0071-4b8d-8aa8-c80edda4ae65",
   "metadata": {},
   "outputs": [
    {
     "name": "stdout",
     "output_type": "stream",
     "text": [
      "21.224489795918366\n"
     ]
    },
    {
     "data": {
      "text/plain": [
       "float"
      ]
     },
     "execution_count": 18,
     "metadata": {},
     "output_type": "execute_result"
    }
   ],
   "source": [
    "fernando_height = 1.75\n",
    "fernando_weight = 65\n",
    "\n",
    "# Calculate the Body Mass Index\n",
    "BMI = fernando_weight/(fernando_height)**2\n",
    "\n",
    "# Display result\n",
    "print(BMI)\n",
    "\n",
    "# Display the type\n",
    "type(BMI)"
   ]
  },
  {
   "cell_type": "markdown",
   "id": "34eae912-3f7f-4daa-85b5-534046036987",
   "metadata": {},
   "source": [
    "### Operators\n",
    "\n",
    "Python has several built-in operators that are used to perform operations on data. Some common operators include:\n",
    "\n",
    "- `+`: Addition\n",
    "- `-`: Subtraction\n",
    "- `*`: Multiplication\n",
    "- `/`: Division\n",
    "- `%`: Modulo (remainder)\n",
    "- `**`: Exponentiation\n"
   ]
  },
  {
   "cell_type": "markdown",
   "id": "251259ec-a94e-49d5-b8bf-19cb1a82e225",
   "metadata": {},
   "source": [
    "### Control Flow\n",
    "\n",
    "Control flow statements are used to control the order in which code is executed. Python has several control flow statements, including:\n",
    "\n",
    "- `if` statements: Used to execute code if a condition is true.\n",
    "- `for` loops: Used to iterate over a sequence of items.\n",
    "- `while` loops: Used to execute code repeatedly as long as a condition is true.\n"
   ]
  },
  {
   "cell_type": "markdown",
   "id": "380d8c80-21e5-4065-b9dc-0e483dc08a66",
   "metadata": {},
   "source": [
    "### Functions\n",
    "\n",
    "Functions are used to encapsulate code and make it reusable. Here's an example of a simple function:"
   ]
  },
  {
   "cell_type": "code",
   "execution_count": 7,
   "id": "ce84df0b-fb02-457a-958f-7295f0227f36",
   "metadata": {},
   "outputs": [
    {
     "data": {
      "text/plain": [
       "4"
      ]
     },
     "execution_count": 7,
     "metadata": {},
     "output_type": "execute_result"
    }
   ],
   "source": [
    "def add_number(x,y):\n",
    "    return x + y\n",
    "\n",
    "add_number(2,2)"
   ]
  },
  {
   "cell_type": "markdown",
   "id": "d6022cd0-1ae4-4528-93cc-643a5b902c27",
   "metadata": {},
   "source": [
    "This function takes two arguments (x and y) and returns their sum. `Functions` can be used to perform any kind of operation, and can take any number of arguments."
   ]
  }
 ],
 "metadata": {
  "kernelspec": {
   "display_name": "Python 3 (ipykernel)",
   "language": "python",
   "name": "python3"
  },
  "language_info": {
   "codemirror_mode": {
    "name": "ipython",
    "version": 3
   },
   "file_extension": ".py",
   "mimetype": "text/x-python",
   "name": "python",
   "nbconvert_exporter": "python",
   "pygments_lexer": "ipython3",
   "version": "3.11.3"
  }
 },
 "nbformat": 4,
 "nbformat_minor": 5
}
