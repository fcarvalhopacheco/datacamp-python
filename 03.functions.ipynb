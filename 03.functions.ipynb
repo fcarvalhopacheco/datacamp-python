{
 "cells": [
  {
   "cell_type": "markdown",
   "id": "4abc685c-4f20-48b6-8dd1-644a9211e92f",
   "metadata": {},
   "source": [
    "# Functions and Methods"
   ]
  },
  {
   "cell_type": "markdown",
   "id": "3e4c974d-8852-43e0-9f0b-2288abab3f33",
   "metadata": {},
   "source": [
    "## References: \n",
    "\n",
    "- [Datacamp - Functions and Packages](https://campus.datacamp.com/courses/intro-to-python-for-data-science/chapter-3-functions-and-packages?ex=1)\n"
   ]
  },
  {
   "cell_type": "markdown",
   "id": "7f7151d8-f6cb-487f-8c10-58ec5838a693",
   "metadata": {},
   "source": [
    "## Overview\n",
    "\n",
    "In Python, a function is a block of reusable code that performs a specific task. Functions allow you to break up your code into smaller, more manageable pieces, making your code easier to read, test, and maintain."
   ]
  },
  {
   "cell_type": "markdown",
   "id": "c1ef8971-765e-4c39-bfef-69af1b219aeb",
   "metadata": {},
   "source": [
    "## Define a function:\n",
    "\n",
    "You can define a function in Python using the `def` keyword, followed by the name of the function and a set of parentheses. Inside the parentheses, you can specify any parameters that the function will take as input. The body of the function is indented and contains the code that will be executed when the function is called.\n",
    "Example:"
   ]
  },
  {
   "cell_type": "code",
   "execution_count": 3,
   "id": "c24b35e0-2c92-4fa2-9cf8-2944f7e621e5",
   "metadata": {},
   "outputs": [],
   "source": [
    "def greet(name):\n",
    "    print(f\"Hello, {name}!\")"
   ]
  },
  {
   "cell_type": "markdown",
   "id": "118d09f7-bd19-4825-a823-a72c39dada80",
   "metadata": {},
   "source": [
    "## Calling a function:\n",
    "\n",
    "To call a function, you simply write its name followed by a set of parentheses that contain any arguments you want to pass to the function. The function will then execute its code and return any value that it computes (if applicable).\n",
    "Example:"
   ]
  },
  {
   "cell_type": "code",
   "execution_count": 5,
   "id": "189123db-b3a3-4bb3-936d-2187239083a5",
   "metadata": {},
   "outputs": [
    {
     "name": "stdout",
     "output_type": "stream",
     "text": [
      "Hello, Fernando!\n"
     ]
    }
   ],
   "source": [
    "greet(\"Fernando\")  # Output: Hello, Alice!\n"
   ]
  },
  {
   "cell_type": "markdown",
   "id": "42eddf2f-2e8a-4d77-b647-b75470b97e4a",
   "metadata": {},
   "source": [
    "## Returning Values: \n",
    "\n",
    "Functions can also return values using the `return` keyword. When a function encounters a `return` statement, it immediately exits and returns the specified value (or `None` if no value is specified).\n",
    "Example:"
   ]
  },
  {
   "cell_type": "code",
   "execution_count": 6,
   "id": "1933c690-aac2-4160-833b-8ad344da3e15",
   "metadata": {},
   "outputs": [
    {
     "name": "stdout",
     "output_type": "stream",
     "text": [
      "9\n"
     ]
    }
   ],
   "source": [
    "def square(x):\n",
    "    return x**2\n",
    "\n",
    "result = square(3)\n",
    "print(result)  # Output: 9"
   ]
  },
  {
   "cell_type": "markdown",
   "id": "49bfa3a9-4f1c-4a2e-bd47-ab9d2e146900",
   "metadata": {},
   "source": [
    "## Default Arguments:\n",
    "\n",
    "You can specify default values for function arguments, which will be used if the caller does not provide a value for that argument.\n",
    "Example:"
   ]
  },
  {
   "cell_type": "code",
   "execution_count": 7,
   "id": "963439cd-6a7c-44e3-a9b7-42aee0edca76",
   "metadata": {},
   "outputs": [
    {
     "name": "stdout",
     "output_type": "stream",
     "text": [
      "Hello, world!\n",
      "Hello, Fernando!\n"
     ]
    }
   ],
   "source": [
    "def greet(name=\"world\"):\n",
    "    print(f\"Hello, {name}!\")\n",
    "\n",
    "greet()         # Output: Hello, world!\n",
    "greet(\"Fernando\")  # Output: Hello, Alice!"
   ]
  },
  {
   "cell_type": "markdown",
   "id": "b017a158-36b5-468a-b57c-dc8a4236312b",
   "metadata": {},
   "source": [
    "## Variable-length arguments\n",
    "\n",
    "You can define a function that takes a variable number of arguments by using the `*args` and `**kwargs` syntax. \n",
    "\n",
    "- `*args` allows you to pass a variable number of positional arguments.\n",
    "- `**kwargs` allows you to pass a variable number of keyword arguments.\n",
    "\n",
    "Example:"
   ]
  },
  {
   "cell_type": "code",
   "execution_count": 8,
   "id": "4ad36249-4459-4983-98f1-1843db3e3800",
   "metadata": {},
   "outputs": [
    {
     "name": "stdout",
     "output_type": "stream",
     "text": [
      "(1, 2, 3)\n",
      "{'a': 4, 'b': 5}\n"
     ]
    }
   ],
   "source": [
    "def my_function(*args, **kwargs):\n",
    "    print(args)\n",
    "    print(kwargs)\n",
    "\n",
    "my_function(1, 2, 3, a=4, b=5)  # Output: (1, 2, 3) {'a': 4, 'b': 5}\n"
   ]
  },
  {
   "cell_type": "markdown",
   "id": "745dd59d-c3b2-4b2f-9e73-7d291113e8db",
   "metadata": {},
   "source": [
    "# Methods\n",
    "\n",
    "In Python, a method is a function that is associated with an object. Methods are called on objects using the dot notation (e.g. `object.method()`), and they can be used to perform actions or modify the object in some way.\n",
    "\n",
    "Python provides a number of built-in methods that can be used with many of the basic data types, such as strings, lists, and dictionaries. These methods can be used to perform a wide range of operations, from manipulating strings and lists to performing calculations and converting between data types.\n",
    "\n",
    "To use a method, you first need to have an object of the appropriate type. For example, to use a method that operates on a string, you need to have a string object. Once you have the object, you can call the method on it using the dot notation.\n",
    "\n",
    "Here's a simple example that demonstrates the use of a method:\n"
   ]
  },
  {
   "cell_type": "code",
   "execution_count": 10,
   "id": "132945a9-87f6-4e35-9acd-f2f68f90b22f",
   "metadata": {},
   "outputs": [
    {
     "name": "stdout",
     "output_type": "stream",
     "text": [
      "HELLO, WORLD!\n"
     ]
    }
   ],
   "source": [
    "my_string = \"hello, world!\"\n",
    "my_string_upper = my_string.upper()\n",
    "print(my_string_upper)"
   ]
  },
  {
   "cell_type": "markdown",
   "id": "83a7b028-9c09-452f-9f0b-a40684033fe4",
   "metadata": {},
   "source": [
    "In this example, the `upper()` method is called on the my_string object. This method converts all of the characters in the string to uppercase, and the resulting string is stored in the my_string_upper variable. The `print()` function is then used to display the uppercase string."
   ]
  },
  {
   "cell_type": "markdown",
   "id": "68babe4b-8132-4f91-96be-51292b46a5dc",
   "metadata": {},
   "source": [
    "## Defining a method: \n",
    "\n",
    "To define a method, you first need to create a class. Classes are a way to define custom data types in Python. You can define methods inside a class by using the `def` keyword, just like with functions. The first parameter of a method is always self, which refers to the instance of the class that the method is being called on.\n",
    "\n",
    "`ps: we will see more about classes and OOP in future lessons. So don't worry! `\n",
    "\n",
    "Example:"
   ]
  },
  {
   "cell_type": "code",
   "execution_count": 12,
   "id": "643f0c12-2225-4477-a79d-2d2088d28417",
   "metadata": {},
   "outputs": [],
   "source": [
    "class Person:\n",
    "    def __init__(self, name, age):\n",
    "        self.name = name\n",
    "        self.age = age\n",
    "\n",
    "    def say_hello(self):\n",
    "        print(f\"Hello, my name is {self.name} and I am {self.age} years old.\")"
   ]
  },
  {
   "cell_type": "markdown",
   "id": "e834fb5b-cc62-48e2-8fe6-db1a28938d9c",
   "metadata": {},
   "source": [
    "## Creating an object: \n",
    "\n",
    "To use a method, you first need to create an object of the class that it belongs to. You can create an object by calling the class like a function and passing in any required arguments. This will create a new instance of the class.\n",
    "Example:"
   ]
  },
  {
   "cell_type": "code",
   "execution_count": 13,
   "id": "f2554eee-39a3-4b53-83ab-be857dac01fb",
   "metadata": {},
   "outputs": [],
   "source": [
    "person1 = Person(\"Fernando\", 33)"
   ]
  },
  {
   "cell_type": "markdown",
   "id": "141f2611-2dfe-454a-bc83-f20aa257d94c",
   "metadata": {},
   "source": [
    "## Calling a method:\n",
    "\n",
    "To call a method, you need to use dot notation to access the method on the object. You don't need to pass in the `self` parameter - Python will automatically pass in the correct instance of the class. You can also access properties (variables) on the object in the same way.\n",
    "\n",
    "\n",
    "Example:"
   ]
  },
  {
   "cell_type": "code",
   "execution_count": 15,
   "id": "80e68a1b-b764-4697-ac4b-3478ed119f55",
   "metadata": {},
   "outputs": [
    {
     "name": "stdout",
     "output_type": "stream",
     "text": [
      "Hello, my name is Fernando and I am 33 years old.\n"
     ]
    }
   ],
   "source": [
    "person1.say_hello()  # Output: Hello, my name is Fernando and I am 33 years old."
   ]
  },
  {
   "cell_type": "markdown",
   "id": "cde06f21-4c0f-4f0e-9495-6995c19f2609",
   "metadata": {},
   "source": [
    "## Modifying object state: \n",
    "\n",
    "Methods can modify the state of the object that they are called on. You can do this by accessing and modifying the object's properties (variables) inside the method.\n",
    "\n",
    "Example:"
   ]
  },
  {
   "cell_type": "code",
   "execution_count": 16,
   "id": "dcd9948d-601b-45e1-8232-50a51a125faf",
   "metadata": {},
   "outputs": [
    {
     "name": "stdout",
     "output_type": "stream",
     "text": [
      "75\n"
     ]
    }
   ],
   "source": [
    "class BankAccount:\n",
    "    def __init__(self, balance=0):\n",
    "        self.balance = balance\n",
    "\n",
    "    def deposit(self, amount):\n",
    "        self.balance += amount\n",
    "\n",
    "    def withdraw(self, amount):\n",
    "        if self.balance >= amount:\n",
    "            self.balance -= amount\n",
    "        else:\n",
    "            print(\"Insufficient funds.\")\n",
    "\n",
    "account1 = BankAccount(100)\n",
    "account1.deposit(50)\n",
    "account1.withdraw(75)\n",
    "print(account1.balance)  # Output: 75\n"
   ]
  },
  {
   "cell_type": "code",
   "execution_count": null,
   "id": "bac070ad-ec66-4886-8cb3-d152996dbf26",
   "metadata": {},
   "outputs": [],
   "source": []
  }
 ],
 "metadata": {
  "kernelspec": {
   "display_name": "Python 3 (ipykernel)",
   "language": "python",
   "name": "python3"
  },
  "language_info": {
   "codemirror_mode": {
    "name": "ipython",
    "version": 3
   },
   "file_extension": ".py",
   "mimetype": "text/x-python",
   "name": "python",
   "nbconvert_exporter": "python",
   "pygments_lexer": "ipython3",
   "version": "3.11.3"
  }
 },
 "nbformat": 4,
 "nbformat_minor": 5
}
